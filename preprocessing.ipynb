{
 "cells": [
  {
   "cell_type": "code",
   "execution_count": 1,
   "id": "e95b1eec",
   "metadata": {},
   "outputs": [],
   "source": [
    "import os\n",
    "import cv2\n",
    "import numpy as np\n",
    "import matplotlib.pyplot as plt\n",
    "\n",
    "def crop(image):\n",
    "    y_nonzero, x_nonzero, _ = np.nonzero(image)\n",
    "    return image[np.min(y_nonzero):np.max(y_nonzero), np.min(x_nonzero):np.max(x_nonzero)]\n",
    "\n",
    "files = os.listdir(\"Data/train_resized256/\")\n",
    "for file in files:\n",
    "    img = cv2.imread(\"Data/train_resized256/\"+file)\n",
    "    croped = crop(img)\n",
    "    filepath = f\"Data/cropped/{file}\"\n",
    "    cv2.imwrite(filepath,croped)"
   ]
  },
  {
   "cell_type": "code",
   "execution_count": null,
   "id": "5df8dbbd",
   "metadata": {},
   "outputs": [],
   "source": []
  }
 ],
 "metadata": {
  "kernelspec": {
   "display_name": "Python 3 (ipykernel)",
   "language": "python",
   "name": "python3"
  },
  "language_info": {
   "codemirror_mode": {
    "name": "ipython",
    "version": 3
   },
   "file_extension": ".py",
   "mimetype": "text/x-python",
   "name": "python",
   "nbconvert_exporter": "python",
   "pygments_lexer": "ipython3",
   "version": "3.11.3"
  }
 },
 "nbformat": 4,
 "nbformat_minor": 5
}
